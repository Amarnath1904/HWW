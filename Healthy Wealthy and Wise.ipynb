{
 "cells": [
  {
   "cell_type": "code",
   "execution_count": 2,
   "id": "initial_id",
   "metadata": {
    "collapsed": true,
    "ExecuteTime": {
     "end_time": "2024-03-14T15:57:23.726471Z",
     "start_time": "2024-03-14T15:57:11.586995Z"
    }
   },
   "outputs": [],
   "source": [
    "from sklearn.compose import make_column_transformer\n",
    "from sklearn.preprocessing import MinMaxScaler, OneHotEncoder\n",
    "from sklearn.model_selection import train_test_split\n",
    "import tensorflow as tf\n",
    "import pandas as pd"
   ]
  },
  {
   "cell_type": "code",
   "outputs": [],
   "source": [
    "data = pd.read_csv(\"https://raw.githubusercontent.com/stedy/Machine-Learning-with-R-datasets/master/insurance.csv\")"
   ],
   "metadata": {
    "collapsed": false,
    "ExecuteTime": {
     "end_time": "2024-03-14T15:57:26.154829Z",
     "start_time": "2024-03-14T15:57:23.728011Z"
    }
   },
   "id": "44f9295f88d8b9c3",
   "execution_count": 3
  },
  {
   "cell_type": "code",
   "outputs": [],
   "source": [
    "ct = make_column_transformer(\n",
    "    (MinMaxScaler(), [\"age\",\"bmi\", \"children\"]),\n",
    "    (OneHotEncoder(handle_unknown=\"ignore\"), [\"sex\", \"smoker\", \"region\"])\n",
    ")"
   ],
   "metadata": {
    "collapsed": false,
    "ExecuteTime": {
     "end_time": "2024-03-14T15:57:26.195577Z",
     "start_time": "2024-03-14T15:57:26.158855Z"
    }
   },
   "id": "811f218ebc0dd107",
   "execution_count": 4
  },
  {
   "cell_type": "code",
   "outputs": [],
   "source": [
    "X = data.drop(\"charges\", axis=1)\n",
    "y = data[\"charges\"]"
   ],
   "metadata": {
    "collapsed": false,
    "ExecuteTime": {
     "end_time": "2024-03-14T15:57:26.216965Z",
     "start_time": "2024-03-14T15:57:26.198097Z"
    }
   },
   "id": "da59a2ec80aa0ab6",
   "execution_count": 5
  },
  {
   "cell_type": "code",
   "outputs": [],
   "source": [
    "X_train, X_test, y_train, y_test = train_test_split(X, y, test_size=0.2, random_state=42)"
   ],
   "metadata": {
    "collapsed": false,
    "ExecuteTime": {
     "end_time": "2024-03-14T15:57:27.001257Z",
     "start_time": "2024-03-14T15:57:26.976345Z"
    }
   },
   "id": "f76b68e1606e0d1c",
   "execution_count": 6
  },
  {
   "cell_type": "code",
   "outputs": [
    {
     "data": {
      "text/plain": "ColumnTransformer(transformers=[('minmaxscaler', MinMaxScaler(),\n                                 ['age', 'bmi', 'children']),\n                                ('onehotencoder',\n                                 OneHotEncoder(handle_unknown='ignore'),\n                                 ['sex', 'smoker', 'region'])])",
      "text/html": "<style>#sk-container-id-1 {\n  /* Definition of color scheme common for light and dark mode */\n  --sklearn-color-text: black;\n  --sklearn-color-line: gray;\n  /* Definition of color scheme for unfitted estimators */\n  --sklearn-color-unfitted-level-0: #fff5e6;\n  --sklearn-color-unfitted-level-1: #f6e4d2;\n  --sklearn-color-unfitted-level-2: #ffe0b3;\n  --sklearn-color-unfitted-level-3: chocolate;\n  /* Definition of color scheme for fitted estimators */\n  --sklearn-color-fitted-level-0: #f0f8ff;\n  --sklearn-color-fitted-level-1: #d4ebff;\n  --sklearn-color-fitted-level-2: #b3dbfd;\n  --sklearn-color-fitted-level-3: cornflowerblue;\n\n  /* Specific color for light theme */\n  --sklearn-color-text-on-default-background: var(--sg-text-color, var(--theme-code-foreground, var(--jp-content-font-color1, black)));\n  --sklearn-color-background: var(--sg-background-color, var(--theme-background, var(--jp-layout-color0, white)));\n  --sklearn-color-border-box: var(--sg-text-color, var(--theme-code-foreground, var(--jp-content-font-color1, black)));\n  --sklearn-color-icon: #696969;\n\n  @media (prefers-color-scheme: dark) {\n    /* Redefinition of color scheme for dark theme */\n    --sklearn-color-text-on-default-background: var(--sg-text-color, var(--theme-code-foreground, var(--jp-content-font-color1, white)));\n    --sklearn-color-background: var(--sg-background-color, var(--theme-background, var(--jp-layout-color0, #111)));\n    --sklearn-color-border-box: var(--sg-text-color, var(--theme-code-foreground, var(--jp-content-font-color1, white)));\n    --sklearn-color-icon: #878787;\n  }\n}\n\n#sk-container-id-1 {\n  color: var(--sklearn-color-text);\n}\n\n#sk-container-id-1 pre {\n  padding: 0;\n}\n\n#sk-container-id-1 input.sk-hidden--visually {\n  border: 0;\n  clip: rect(1px 1px 1px 1px);\n  clip: rect(1px, 1px, 1px, 1px);\n  height: 1px;\n  margin: -1px;\n  overflow: hidden;\n  padding: 0;\n  position: absolute;\n  width: 1px;\n}\n\n#sk-container-id-1 div.sk-dashed-wrapped {\n  border: 1px dashed var(--sklearn-color-line);\n  margin: 0 0.4em 0.5em 0.4em;\n  box-sizing: border-box;\n  padding-bottom: 0.4em;\n  background-color: var(--sklearn-color-background);\n}\n\n#sk-container-id-1 div.sk-container {\n  /* jupyter's `normalize.less` sets `[hidden] { display: none; }`\n     but bootstrap.min.css set `[hidden] { display: none !important; }`\n     so we also need the `!important` here to be able to override the\n     default hidden behavior on the sphinx rendered scikit-learn.org.\n     See: https://github.com/scikit-learn/scikit-learn/issues/21755 */\n  display: inline-block !important;\n  position: relative;\n}\n\n#sk-container-id-1 div.sk-text-repr-fallback {\n  display: none;\n}\n\ndiv.sk-parallel-item,\ndiv.sk-serial,\ndiv.sk-item {\n  /* draw centered vertical line to link estimators */\n  background-image: linear-gradient(var(--sklearn-color-text-on-default-background), var(--sklearn-color-text-on-default-background));\n  background-size: 2px 100%;\n  background-repeat: no-repeat;\n  background-position: center center;\n}\n\n/* Parallel-specific style estimator block */\n\n#sk-container-id-1 div.sk-parallel-item::after {\n  content: \"\";\n  width: 100%;\n  border-bottom: 2px solid var(--sklearn-color-text-on-default-background);\n  flex-grow: 1;\n}\n\n#sk-container-id-1 div.sk-parallel {\n  display: flex;\n  align-items: stretch;\n  justify-content: center;\n  background-color: var(--sklearn-color-background);\n  position: relative;\n}\n\n#sk-container-id-1 div.sk-parallel-item {\n  display: flex;\n  flex-direction: column;\n}\n\n#sk-container-id-1 div.sk-parallel-item:first-child::after {\n  align-self: flex-end;\n  width: 50%;\n}\n\n#sk-container-id-1 div.sk-parallel-item:last-child::after {\n  align-self: flex-start;\n  width: 50%;\n}\n\n#sk-container-id-1 div.sk-parallel-item:only-child::after {\n  width: 0;\n}\n\n/* Serial-specific style estimator block */\n\n#sk-container-id-1 div.sk-serial {\n  display: flex;\n  flex-direction: column;\n  align-items: center;\n  background-color: var(--sklearn-color-background);\n  padding-right: 1em;\n  padding-left: 1em;\n}\n\n\n/* Toggleable style: style used for estimator/Pipeline/ColumnTransformer box that is\nclickable and can be expanded/collapsed.\n- Pipeline and ColumnTransformer use this feature and define the default style\n- Estimators will overwrite some part of the style using the `sk-estimator` class\n*/\n\n/* Pipeline and ColumnTransformer style (default) */\n\n#sk-container-id-1 div.sk-toggleable {\n  /* Default theme specific background. It is overwritten whether we have a\n  specific estimator or a Pipeline/ColumnTransformer */\n  background-color: var(--sklearn-color-background);\n}\n\n/* Toggleable label */\n#sk-container-id-1 label.sk-toggleable__label {\n  cursor: pointer;\n  display: block;\n  width: 100%;\n  margin-bottom: 0;\n  padding: 0.5em;\n  box-sizing: border-box;\n  text-align: center;\n}\n\n#sk-container-id-1 label.sk-toggleable__label-arrow:before {\n  /* Arrow on the left of the label */\n  content: \"▸\";\n  float: left;\n  margin-right: 0.25em;\n  color: var(--sklearn-color-icon);\n}\n\n#sk-container-id-1 label.sk-toggleable__label-arrow:hover:before {\n  color: var(--sklearn-color-text);\n}\n\n/* Toggleable content - dropdown */\n\n#sk-container-id-1 div.sk-toggleable__content {\n  max-height: 0;\n  max-width: 0;\n  overflow: hidden;\n  text-align: left;\n  /* unfitted */\n  background-color: var(--sklearn-color-unfitted-level-0);\n}\n\n#sk-container-id-1 div.sk-toggleable__content.fitted {\n  /* fitted */\n  background-color: var(--sklearn-color-fitted-level-0);\n}\n\n#sk-container-id-1 div.sk-toggleable__content pre {\n  margin: 0.2em;\n  border-radius: 0.25em;\n  color: var(--sklearn-color-text);\n  /* unfitted */\n  background-color: var(--sklearn-color-unfitted-level-0);\n}\n\n#sk-container-id-1 div.sk-toggleable__content.fitted pre {\n  /* unfitted */\n  background-color: var(--sklearn-color-fitted-level-0);\n}\n\n#sk-container-id-1 input.sk-toggleable__control:checked~div.sk-toggleable__content {\n  /* Expand drop-down */\n  max-height: 200px;\n  max-width: 100%;\n  overflow: auto;\n}\n\n#sk-container-id-1 input.sk-toggleable__control:checked~label.sk-toggleable__label-arrow:before {\n  content: \"▾\";\n}\n\n/* Pipeline/ColumnTransformer-specific style */\n\n#sk-container-id-1 div.sk-label input.sk-toggleable__control:checked~label.sk-toggleable__label {\n  color: var(--sklearn-color-text);\n  background-color: var(--sklearn-color-unfitted-level-2);\n}\n\n#sk-container-id-1 div.sk-label.fitted input.sk-toggleable__control:checked~label.sk-toggleable__label {\n  background-color: var(--sklearn-color-fitted-level-2);\n}\n\n/* Estimator-specific style */\n\n/* Colorize estimator box */\n#sk-container-id-1 div.sk-estimator input.sk-toggleable__control:checked~label.sk-toggleable__label {\n  /* unfitted */\n  background-color: var(--sklearn-color-unfitted-level-2);\n}\n\n#sk-container-id-1 div.sk-estimator.fitted input.sk-toggleable__control:checked~label.sk-toggleable__label {\n  /* fitted */\n  background-color: var(--sklearn-color-fitted-level-2);\n}\n\n#sk-container-id-1 div.sk-label label.sk-toggleable__label,\n#sk-container-id-1 div.sk-label label {\n  /* The background is the default theme color */\n  color: var(--sklearn-color-text-on-default-background);\n}\n\n/* On hover, darken the color of the background */\n#sk-container-id-1 div.sk-label:hover label.sk-toggleable__label {\n  color: var(--sklearn-color-text);\n  background-color: var(--sklearn-color-unfitted-level-2);\n}\n\n/* Label box, darken color on hover, fitted */\n#sk-container-id-1 div.sk-label.fitted:hover label.sk-toggleable__label.fitted {\n  color: var(--sklearn-color-text);\n  background-color: var(--sklearn-color-fitted-level-2);\n}\n\n/* Estimator label */\n\n#sk-container-id-1 div.sk-label label {\n  font-family: monospace;\n  font-weight: bold;\n  display: inline-block;\n  line-height: 1.2em;\n}\n\n#sk-container-id-1 div.sk-label-container {\n  text-align: center;\n}\n\n/* Estimator-specific */\n#sk-container-id-1 div.sk-estimator {\n  font-family: monospace;\n  border: 1px dotted var(--sklearn-color-border-box);\n  border-radius: 0.25em;\n  box-sizing: border-box;\n  margin-bottom: 0.5em;\n  /* unfitted */\n  background-color: var(--sklearn-color-unfitted-level-0);\n}\n\n#sk-container-id-1 div.sk-estimator.fitted {\n  /* fitted */\n  background-color: var(--sklearn-color-fitted-level-0);\n}\n\n/* on hover */\n#sk-container-id-1 div.sk-estimator:hover {\n  /* unfitted */\n  background-color: var(--sklearn-color-unfitted-level-2);\n}\n\n#sk-container-id-1 div.sk-estimator.fitted:hover {\n  /* fitted */\n  background-color: var(--sklearn-color-fitted-level-2);\n}\n\n/* Specification for estimator info (e.g. \"i\" and \"?\") */\n\n/* Common style for \"i\" and \"?\" */\n\n.sk-estimator-doc-link,\na:link.sk-estimator-doc-link,\na:visited.sk-estimator-doc-link {\n  float: right;\n  font-size: smaller;\n  line-height: 1em;\n  font-family: monospace;\n  background-color: var(--sklearn-color-background);\n  border-radius: 1em;\n  height: 1em;\n  width: 1em;\n  text-decoration: none !important;\n  margin-left: 1ex;\n  /* unfitted */\n  border: var(--sklearn-color-unfitted-level-1) 1pt solid;\n  color: var(--sklearn-color-unfitted-level-1);\n}\n\n.sk-estimator-doc-link.fitted,\na:link.sk-estimator-doc-link.fitted,\na:visited.sk-estimator-doc-link.fitted {\n  /* fitted */\n  border: var(--sklearn-color-fitted-level-1) 1pt solid;\n  color: var(--sklearn-color-fitted-level-1);\n}\n\n/* On hover */\ndiv.sk-estimator:hover .sk-estimator-doc-link:hover,\n.sk-estimator-doc-link:hover,\ndiv.sk-label-container:hover .sk-estimator-doc-link:hover,\n.sk-estimator-doc-link:hover {\n  /* unfitted */\n  background-color: var(--sklearn-color-unfitted-level-3);\n  color: var(--sklearn-color-background);\n  text-decoration: none;\n}\n\ndiv.sk-estimator.fitted:hover .sk-estimator-doc-link.fitted:hover,\n.sk-estimator-doc-link.fitted:hover,\ndiv.sk-label-container:hover .sk-estimator-doc-link.fitted:hover,\n.sk-estimator-doc-link.fitted:hover {\n  /* fitted */\n  background-color: var(--sklearn-color-fitted-level-3);\n  color: var(--sklearn-color-background);\n  text-decoration: none;\n}\n\n/* Span, style for the box shown on hovering the info icon */\n.sk-estimator-doc-link span {\n  display: none;\n  z-index: 9999;\n  position: relative;\n  font-weight: normal;\n  right: .2ex;\n  padding: .5ex;\n  margin: .5ex;\n  width: min-content;\n  min-width: 20ex;\n  max-width: 50ex;\n  color: var(--sklearn-color-text);\n  box-shadow: 2pt 2pt 4pt #999;\n  /* unfitted */\n  background: var(--sklearn-color-unfitted-level-0);\n  border: .5pt solid var(--sklearn-color-unfitted-level-3);\n}\n\n.sk-estimator-doc-link.fitted span {\n  /* fitted */\n  background: var(--sklearn-color-fitted-level-0);\n  border: var(--sklearn-color-fitted-level-3);\n}\n\n.sk-estimator-doc-link:hover span {\n  display: block;\n}\n\n/* \"?\"-specific style due to the `<a>` HTML tag */\n\n#sk-container-id-1 a.estimator_doc_link {\n  float: right;\n  font-size: 1rem;\n  line-height: 1em;\n  font-family: monospace;\n  background-color: var(--sklearn-color-background);\n  border-radius: 1rem;\n  height: 1rem;\n  width: 1rem;\n  text-decoration: none;\n  /* unfitted */\n  color: var(--sklearn-color-unfitted-level-1);\n  border: var(--sklearn-color-unfitted-level-1) 1pt solid;\n}\n\n#sk-container-id-1 a.estimator_doc_link.fitted {\n  /* fitted */\n  border: var(--sklearn-color-fitted-level-1) 1pt solid;\n  color: var(--sklearn-color-fitted-level-1);\n}\n\n/* On hover */\n#sk-container-id-1 a.estimator_doc_link:hover {\n  /* unfitted */\n  background-color: var(--sklearn-color-unfitted-level-3);\n  color: var(--sklearn-color-background);\n  text-decoration: none;\n}\n\n#sk-container-id-1 a.estimator_doc_link.fitted:hover {\n  /* fitted */\n  background-color: var(--sklearn-color-fitted-level-3);\n}\n</style><div id=\"sk-container-id-1\" class=\"sk-top-container\"><div class=\"sk-text-repr-fallback\"><pre>ColumnTransformer(transformers=[(&#x27;minmaxscaler&#x27;, MinMaxScaler(),\n                                 [&#x27;age&#x27;, &#x27;bmi&#x27;, &#x27;children&#x27;]),\n                                (&#x27;onehotencoder&#x27;,\n                                 OneHotEncoder(handle_unknown=&#x27;ignore&#x27;),\n                                 [&#x27;sex&#x27;, &#x27;smoker&#x27;, &#x27;region&#x27;])])</pre><b>In a Jupyter environment, please rerun this cell to show the HTML representation or trust the notebook. <br />On GitHub, the HTML representation is unable to render, please try loading this page with nbviewer.org.</b></div><div class=\"sk-container\" hidden><div class=\"sk-item sk-dashed-wrapped\"><div class=\"sk-label-container\"><div class=\"sk-label fitted sk-toggleable\"><input class=\"sk-toggleable__control sk-hidden--visually\" id=\"sk-estimator-id-1\" type=\"checkbox\" ><label for=\"sk-estimator-id-1\" class=\"sk-toggleable__label fitted sk-toggleable__label-arrow fitted\">&nbsp;&nbsp;ColumnTransformer<a class=\"sk-estimator-doc-link fitted\" rel=\"noreferrer\" target=\"_blank\" href=\"https://scikit-learn.org/1.4/modules/generated/sklearn.compose.ColumnTransformer.html\">?<span>Documentation for ColumnTransformer</span></a><span class=\"sk-estimator-doc-link fitted\">i<span>Fitted</span></span></label><div class=\"sk-toggleable__content fitted\"><pre>ColumnTransformer(transformers=[(&#x27;minmaxscaler&#x27;, MinMaxScaler(),\n                                 [&#x27;age&#x27;, &#x27;bmi&#x27;, &#x27;children&#x27;]),\n                                (&#x27;onehotencoder&#x27;,\n                                 OneHotEncoder(handle_unknown=&#x27;ignore&#x27;),\n                                 [&#x27;sex&#x27;, &#x27;smoker&#x27;, &#x27;region&#x27;])])</pre></div> </div></div><div class=\"sk-parallel\"><div class=\"sk-parallel-item\"><div class=\"sk-item\"><div class=\"sk-label-container\"><div class=\"sk-label fitted sk-toggleable\"><input class=\"sk-toggleable__control sk-hidden--visually\" id=\"sk-estimator-id-2\" type=\"checkbox\" ><label for=\"sk-estimator-id-2\" class=\"sk-toggleable__label fitted sk-toggleable__label-arrow fitted\">minmaxscaler</label><div class=\"sk-toggleable__content fitted\"><pre>[&#x27;age&#x27;, &#x27;bmi&#x27;, &#x27;children&#x27;]</pre></div> </div></div><div class=\"sk-serial\"><div class=\"sk-item\"><div class=\"sk-estimator fitted sk-toggleable\"><input class=\"sk-toggleable__control sk-hidden--visually\" id=\"sk-estimator-id-3\" type=\"checkbox\" ><label for=\"sk-estimator-id-3\" class=\"sk-toggleable__label fitted sk-toggleable__label-arrow fitted\">&nbsp;MinMaxScaler<a class=\"sk-estimator-doc-link fitted\" rel=\"noreferrer\" target=\"_blank\" href=\"https://scikit-learn.org/1.4/modules/generated/sklearn.preprocessing.MinMaxScaler.html\">?<span>Documentation for MinMaxScaler</span></a></label><div class=\"sk-toggleable__content fitted\"><pre>MinMaxScaler()</pre></div> </div></div></div></div></div><div class=\"sk-parallel-item\"><div class=\"sk-item\"><div class=\"sk-label-container\"><div class=\"sk-label fitted sk-toggleable\"><input class=\"sk-toggleable__control sk-hidden--visually\" id=\"sk-estimator-id-4\" type=\"checkbox\" ><label for=\"sk-estimator-id-4\" class=\"sk-toggleable__label fitted sk-toggleable__label-arrow fitted\">onehotencoder</label><div class=\"sk-toggleable__content fitted\"><pre>[&#x27;sex&#x27;, &#x27;smoker&#x27;, &#x27;region&#x27;]</pre></div> </div></div><div class=\"sk-serial\"><div class=\"sk-item\"><div class=\"sk-estimator fitted sk-toggleable\"><input class=\"sk-toggleable__control sk-hidden--visually\" id=\"sk-estimator-id-5\" type=\"checkbox\" ><label for=\"sk-estimator-id-5\" class=\"sk-toggleable__label fitted sk-toggleable__label-arrow fitted\">&nbsp;OneHotEncoder<a class=\"sk-estimator-doc-link fitted\" rel=\"noreferrer\" target=\"_blank\" href=\"https://scikit-learn.org/1.4/modules/generated/sklearn.preprocessing.OneHotEncoder.html\">?<span>Documentation for OneHotEncoder</span></a></label><div class=\"sk-toggleable__content fitted\"><pre>OneHotEncoder(handle_unknown=&#x27;ignore&#x27;)</pre></div> </div></div></div></div></div></div></div></div></div>"
     },
     "execution_count": 7,
     "metadata": {},
     "output_type": "execute_result"
    }
   ],
   "source": [
    "ct.fit(X_train)"
   ],
   "metadata": {
    "collapsed": false,
    "ExecuteTime": {
     "end_time": "2024-03-14T15:57:27.463259Z",
     "start_time": "2024-03-14T15:57:27.435285Z"
    }
   },
   "id": "90d6143bed47a5da",
   "execution_count": 7
  },
  {
   "cell_type": "code",
   "outputs": [],
   "source": [
    "X_train_normal = ct.transform(X_train)\n",
    "X_test_normal = ct.transform(X_test)"
   ],
   "metadata": {
    "collapsed": false,
    "ExecuteTime": {
     "end_time": "2024-03-14T15:57:28.002471Z",
     "start_time": "2024-03-14T15:57:27.983599Z"
    }
   },
   "id": "f0544697e259a64b",
   "execution_count": 8
  },
  {
   "cell_type": "code",
   "outputs": [
    {
     "data": {
      "text/plain": "      age     sex     bmi  children smoker     region\n560    46  female  19.950         2     no  northwest\n1285   47  female  24.320         0     no  northeast\n1142   52  female  24.860         0     no  southeast\n969    39  female  34.320         5     no  southeast\n486    54  female  21.470         3     no  northwest\n...   ...     ...     ...       ...    ...        ...\n1095   18  female  31.350         4     no  northeast\n1130   39  female  23.870         5     no  southeast\n1294   58    male  25.175         0     no  northeast\n860    37  female  47.600         2    yes  southwest\n1126   55    male  29.900         0     no  southwest\n\n[1070 rows x 6 columns]",
      "text/html": "<div>\n<style scoped>\n    .dataframe tbody tr th:only-of-type {\n        vertical-align: middle;\n    }\n\n    .dataframe tbody tr th {\n        vertical-align: top;\n    }\n\n    .dataframe thead th {\n        text-align: right;\n    }\n</style>\n<table border=\"1\" class=\"dataframe\">\n  <thead>\n    <tr style=\"text-align: right;\">\n      <th></th>\n      <th>age</th>\n      <th>sex</th>\n      <th>bmi</th>\n      <th>children</th>\n      <th>smoker</th>\n      <th>region</th>\n    </tr>\n  </thead>\n  <tbody>\n    <tr>\n      <th>560</th>\n      <td>46</td>\n      <td>female</td>\n      <td>19.950</td>\n      <td>2</td>\n      <td>no</td>\n      <td>northwest</td>\n    </tr>\n    <tr>\n      <th>1285</th>\n      <td>47</td>\n      <td>female</td>\n      <td>24.320</td>\n      <td>0</td>\n      <td>no</td>\n      <td>northeast</td>\n    </tr>\n    <tr>\n      <th>1142</th>\n      <td>52</td>\n      <td>female</td>\n      <td>24.860</td>\n      <td>0</td>\n      <td>no</td>\n      <td>southeast</td>\n    </tr>\n    <tr>\n      <th>969</th>\n      <td>39</td>\n      <td>female</td>\n      <td>34.320</td>\n      <td>5</td>\n      <td>no</td>\n      <td>southeast</td>\n    </tr>\n    <tr>\n      <th>486</th>\n      <td>54</td>\n      <td>female</td>\n      <td>21.470</td>\n      <td>3</td>\n      <td>no</td>\n      <td>northwest</td>\n    </tr>\n    <tr>\n      <th>...</th>\n      <td>...</td>\n      <td>...</td>\n      <td>...</td>\n      <td>...</td>\n      <td>...</td>\n      <td>...</td>\n    </tr>\n    <tr>\n      <th>1095</th>\n      <td>18</td>\n      <td>female</td>\n      <td>31.350</td>\n      <td>4</td>\n      <td>no</td>\n      <td>northeast</td>\n    </tr>\n    <tr>\n      <th>1130</th>\n      <td>39</td>\n      <td>female</td>\n      <td>23.870</td>\n      <td>5</td>\n      <td>no</td>\n      <td>southeast</td>\n    </tr>\n    <tr>\n      <th>1294</th>\n      <td>58</td>\n      <td>male</td>\n      <td>25.175</td>\n      <td>0</td>\n      <td>no</td>\n      <td>northeast</td>\n    </tr>\n    <tr>\n      <th>860</th>\n      <td>37</td>\n      <td>female</td>\n      <td>47.600</td>\n      <td>2</td>\n      <td>yes</td>\n      <td>southwest</td>\n    </tr>\n    <tr>\n      <th>1126</th>\n      <td>55</td>\n      <td>male</td>\n      <td>29.900</td>\n      <td>0</td>\n      <td>no</td>\n      <td>southwest</td>\n    </tr>\n  </tbody>\n</table>\n<p>1070 rows × 6 columns</p>\n</div>"
     },
     "execution_count": 9,
     "metadata": {},
     "output_type": "execute_result"
    }
   ],
   "source": [
    "X_train"
   ],
   "metadata": {
    "collapsed": false,
    "ExecuteTime": {
     "end_time": "2024-03-14T15:57:28.617750Z",
     "start_time": "2024-03-14T15:57:28.600805Z"
    }
   },
   "id": "e071240f691e681d",
   "execution_count": 9
  },
  {
   "cell_type": "code",
   "outputs": [
    {
     "data": {
      "text/plain": "array([[0.60869565, 0.10734463, 0.4       , ..., 1.        , 0.        ,\n        0.        ],\n       [0.63043478, 0.22491256, 0.        , ..., 0.        , 0.        ,\n        0.        ],\n       [0.73913043, 0.23944041, 0.        , ..., 0.        , 1.        ,\n        0.        ],\n       ...,\n       [0.86956522, 0.24791499, 0.        , ..., 0.        , 0.        ,\n        0.        ],\n       [0.41304348, 0.85122411, 0.4       , ..., 0.        , 0.        ,\n        1.        ],\n       [0.80434783, 0.37503363, 0.        , ..., 0.        , 0.        ,\n        1.        ]])"
     },
     "execution_count": 10,
     "metadata": {},
     "output_type": "execute_result"
    }
   ],
   "source": [
    "X_train_normal"
   ],
   "metadata": {
    "collapsed": false,
    "ExecuteTime": {
     "end_time": "2024-03-14T15:57:29.219717Z",
     "start_time": "2024-03-14T15:57:29.211869Z"
    }
   },
   "id": "d32be427f0c078bf",
   "execution_count": 10
  },
  {
   "cell_type": "code",
   "outputs": [
    {
     "data": {
      "text/plain": "(1070, 11)"
     },
     "execution_count": 11,
     "metadata": {},
     "output_type": "execute_result"
    }
   ],
   "source": [
    "X_train_normal.shape"
   ],
   "metadata": {
    "collapsed": false,
    "ExecuteTime": {
     "end_time": "2024-03-14T15:57:29.899805Z",
     "start_time": "2024-03-14T15:57:29.891392Z"
    }
   },
   "id": "6c13a0e9e4dd6911",
   "execution_count": 11
  },
  {
   "cell_type": "code",
   "outputs": [],
   "source": [
    "# model 3\n",
    "\n",
    "\n",
    "tf.random.set_seed(42)\n",
    "\n",
    "model_3 = tf.keras.Sequential([\n",
    "    tf.keras.layers.Dense(100),\n",
    "    tf.keras.layers.Dense(10),\n",
    "    tf.keras.layers.Dense(1),\n",
    "])\n",
    "\n",
    "model_3.compile(\n",
    "    loss = tf.keras.losses.MAE,\n",
    "    optimizer= tf.keras.optimizers.Adam(),\n",
    "    metrics =[\"MAE\"]\n",
    ")"
   ],
   "metadata": {
    "collapsed": false,
    "ExecuteTime": {
     "end_time": "2024-03-14T15:57:30.625002Z",
     "start_time": "2024-03-14T15:57:30.477832Z"
    }
   },
   "id": "56429349b08429f4",
   "execution_count": 12
  },
  {
   "cell_type": "code",
   "outputs": [
    {
     "name": "stdout",
     "output_type": "stream",
     "text": [
      "Epoch 1/200\n",
      "\u001B[1m34/34\u001B[0m \u001B[32m━━━━━━━━━━━━━━━━━━━━\u001B[0m\u001B[37m\u001B[0m \u001B[1m2s\u001B[0m 3ms/step - MAE: 13298.5156 - loss: 13296.4092\n",
      "Epoch 2/200\n",
      "\u001B[1m34/34\u001B[0m \u001B[32m━━━━━━━━━━━━━━━━━━━━\u001B[0m\u001B[37m\u001B[0m \u001B[1m0s\u001B[0m 1ms/step - MAE: 13293.4863 - loss: 13291.3760 \n",
      "Epoch 3/200\n",
      "\u001B[1m34/34\u001B[0m \u001B[32m━━━━━━━━━━━━━━━━━━━━\u001B[0m\u001B[37m\u001B[0m \u001B[1m0s\u001B[0m 1ms/step - MAE: 13279.9238 - loss: 13277.8057 \n",
      "Epoch 4/200\n",
      "\u001B[1m34/34\u001B[0m \u001B[32m━━━━━━━━━━━━━━━━━━━━\u001B[0m\u001B[37m\u001B[0m \u001B[1m0s\u001B[0m 1ms/step - MAE: 13247.8477 - loss: 13245.7168 \n",
      "Epoch 5/200\n",
      "\u001B[1m34/34\u001B[0m \u001B[32m━━━━━━━━━━━━━━━━━━━━\u001B[0m\u001B[37m\u001B[0m \u001B[1m0s\u001B[0m 1ms/step - MAE: 13185.8311 - loss: 13183.6816 \n",
      "Epoch 6/200\n",
      "\u001B[1m34/34\u001B[0m \u001B[32m━━━━━━━━━━━━━━━━━━━━\u001B[0m\u001B[37m\u001B[0m \u001B[1m0s\u001B[0m 1ms/step - MAE: 13082.3525 - loss: 13080.1787 \n",
      "Epoch 7/200\n",
      "\u001B[1m34/34\u001B[0m \u001B[32m━━━━━━━━━━━━━━━━━━━━\u001B[0m\u001B[37m\u001B[0m \u001B[1m0s\u001B[0m 1ms/step - MAE: 12926.6367 - loss: 12924.4336 \n",
      "Epoch 8/200\n",
      "\u001B[1m34/34\u001B[0m \u001B[32m━━━━━━━━━━━━━━━━━━━━\u001B[0m\u001B[37m\u001B[0m \u001B[1m0s\u001B[0m 1ms/step - MAE: 12708.1523 - loss: 12705.9170 \n",
      "Epoch 9/200\n",
      "\u001B[1m34/34\u001B[0m \u001B[32m━━━━━━━━━━━━━━━━━━━━\u001B[0m\u001B[37m\u001B[0m \u001B[1m0s\u001B[0m 1ms/step - MAE: 12416.6846 - loss: 12414.4111 \n",
      "Epoch 10/200\n",
      "\u001B[1m34/34\u001B[0m \u001B[32m━━━━━━━━━━━━━━━━━━━━\u001B[0m\u001B[37m\u001B[0m \u001B[1m0s\u001B[0m 1ms/step - MAE: 12043.2031 - loss: 12040.8887 \n",
      "Epoch 11/200\n",
      "\u001B[1m34/34\u001B[0m \u001B[32m━━━━━━━━━━━━━━━━━━━━\u001B[0m\u001B[37m\u001B[0m \u001B[1m0s\u001B[0m 1ms/step - MAE: 11593.3359 - loss: 11591.0117 \n",
      "Epoch 12/200\n",
      "\u001B[1m34/34\u001B[0m \u001B[32m━━━━━━━━━━━━━━━━━━━━\u001B[0m\u001B[37m\u001B[0m \u001B[1m0s\u001B[0m 1ms/step - MAE: 11091.1104 - loss: 11088.8838 \n",
      "Epoch 13/200\n",
      "\u001B[1m34/34\u001B[0m \u001B[32m━━━━━━━━━━━━━━━━━━━━\u001B[0m\u001B[37m\u001B[0m \u001B[1m0s\u001B[0m 1ms/step - MAE: 10587.4189 - loss: 10585.3018 \n",
      "Epoch 14/200\n",
      "\u001B[1m34/34\u001B[0m \u001B[32m━━━━━━━━━━━━━━━━━━━━\u001B[0m\u001B[37m\u001B[0m \u001B[1m0s\u001B[0m 1ms/step - MAE: 10081.0127 - loss: 10078.9717 \n",
      "Epoch 15/200\n",
      "\u001B[1m34/34\u001B[0m \u001B[32m━━━━━━━━━━━━━━━━━━━━\u001B[0m\u001B[37m\u001B[0m \u001B[1m0s\u001B[0m 2ms/step - MAE: 9587.6211 - loss: 9585.6953\n",
      "Epoch 16/200\n",
      "\u001B[1m34/34\u001B[0m \u001B[32m━━━━━━━━━━━━━━━━━━━━\u001B[0m\u001B[37m\u001B[0m \u001B[1m0s\u001B[0m 1ms/step - MAE: 9143.0264 - loss: 9141.2930 \n",
      "Epoch 17/200\n",
      "\u001B[1m34/34\u001B[0m \u001B[32m━━━━━━━━━━━━━━━━━━━━\u001B[0m\u001B[37m\u001B[0m \u001B[1m0s\u001B[0m 1ms/step - MAE: 8761.6543 - loss: 8760.1562 \n",
      "Epoch 18/200\n",
      "\u001B[1m34/34\u001B[0m \u001B[32m━━━━━━━━━━━━━━━━━━━━\u001B[0m\u001B[37m\u001B[0m \u001B[1m0s\u001B[0m 1ms/step - MAE: 8459.0957 - loss: 8457.8613 \n",
      "Epoch 19/200\n",
      "\u001B[1m34/34\u001B[0m \u001B[32m━━━━━━━━━━━━━━━━━━━━\u001B[0m\u001B[37m\u001B[0m \u001B[1m0s\u001B[0m 1ms/step - MAE: 8230.9590 - loss: 8229.9805 \n",
      "Epoch 20/200\n",
      "\u001B[1m34/34\u001B[0m \u001B[32m━━━━━━━━━━━━━━━━━━━━\u001B[0m\u001B[37m\u001B[0m \u001B[1m0s\u001B[0m 1ms/step - MAE: 8066.8540 - loss: 8066.1152 \n",
      "Epoch 21/200\n",
      "\u001B[1m34/34\u001B[0m \u001B[32m━━━━━━━━━━━━━━━━━━━━\u001B[0m\u001B[37m\u001B[0m \u001B[1m0s\u001B[0m 1ms/step - MAE: 7949.8379 - loss: 7949.3027 \n",
      "Epoch 22/200\n",
      "\u001B[1m34/34\u001B[0m \u001B[32m━━━━━━━━━━━━━━━━━━━━\u001B[0m\u001B[37m\u001B[0m \u001B[1m0s\u001B[0m 1ms/step - MAE: 7867.6958 - loss: 7867.3003 \n",
      "Epoch 23/200\n",
      "\u001B[1m34/34\u001B[0m \u001B[32m━━━━━━━━━━━━━━━━━━━━\u001B[0m\u001B[37m\u001B[0m \u001B[1m0s\u001B[0m 929us/step - MAE: 7805.5928 - loss: 7805.2866\n",
      "Epoch 24/200\n",
      "\u001B[1m34/34\u001B[0m \u001B[32m━━━━━━━━━━━━━━━━━━━━\u001B[0m\u001B[37m\u001B[0m \u001B[1m0s\u001B[0m 1ms/step - MAE: 7754.1143 - loss: 7753.8706 \n",
      "Epoch 25/200\n",
      "\u001B[1m34/34\u001B[0m \u001B[32m━━━━━━━━━━━━━━━━━━━━\u001B[0m\u001B[37m\u001B[0m \u001B[1m0s\u001B[0m 1ms/step - MAE: 7706.7119 - loss: 7706.5103 \n",
      "Epoch 26/200\n",
      "\u001B[1m34/34\u001B[0m \u001B[32m━━━━━━━━━━━━━━━━━━━━\u001B[0m\u001B[37m\u001B[0m \u001B[1m0s\u001B[0m 1ms/step - MAE: 7661.6079 - loss: 7661.4404 \n",
      "Epoch 27/200\n",
      "\u001B[1m34/34\u001B[0m \u001B[32m━━━━━━━━━━━━━━━━━━━━\u001B[0m\u001B[37m\u001B[0m \u001B[1m0s\u001B[0m 1ms/step - MAE: 7617.6738 - loss: 7617.5298 \n",
      "Epoch 28/200\n",
      "\u001B[1m34/34\u001B[0m \u001B[32m━━━━━━━━━━━━━━━━━━━━\u001B[0m\u001B[37m\u001B[0m \u001B[1m0s\u001B[0m 1ms/step - MAE: 7575.0083 - loss: 7574.8726 \n",
      "Epoch 29/200\n",
      "\u001B[1m34/34\u001B[0m \u001B[32m━━━━━━━━━━━━━━━━━━━━\u001B[0m\u001B[37m\u001B[0m \u001B[1m0s\u001B[0m 1ms/step - MAE: 7532.7959 - loss: 7532.6660 \n",
      "Epoch 30/200\n",
      "\u001B[1m34/34\u001B[0m \u001B[32m━━━━━━━━━━━━━━━━━━━━\u001B[0m\u001B[37m\u001B[0m \u001B[1m0s\u001B[0m 1ms/step - MAE: 7490.4766 - loss: 7490.3511 \n",
      "Epoch 31/200\n",
      "\u001B[1m34/34\u001B[0m \u001B[32m━━━━━━━━━━━━━━━━━━━━\u001B[0m\u001B[37m\u001B[0m \u001B[1m0s\u001B[0m 1ms/step - MAE: 7447.5142 - loss: 7447.3950 \n",
      "Epoch 32/200\n",
      "\u001B[1m34/34\u001B[0m \u001B[32m━━━━━━━━━━━━━━━━━━━━\u001B[0m\u001B[37m\u001B[0m \u001B[1m0s\u001B[0m 1ms/step - MAE: 7403.8311 - loss: 7403.7178 \n",
      "Epoch 33/200\n",
      "\u001B[1m34/34\u001B[0m \u001B[32m━━━━━━━━━━━━━━━━━━━━\u001B[0m\u001B[37m\u001B[0m \u001B[1m0s\u001B[0m 1ms/step - MAE: 7359.4663 - loss: 7359.3569 \n",
      "Epoch 34/200\n",
      "\u001B[1m34/34\u001B[0m \u001B[32m━━━━━━━━━━━━━━━━━━━━\u001B[0m\u001B[37m\u001B[0m \u001B[1m0s\u001B[0m 1ms/step - MAE: 7314.2705 - loss: 7314.1626 \n",
      "Epoch 35/200\n",
      "\u001B[1m34/34\u001B[0m \u001B[32m━━━━━━━━━━━━━━━━━━━━\u001B[0m\u001B[37m\u001B[0m \u001B[1m0s\u001B[0m 1ms/step - MAE: 7268.0688 - loss: 7267.9658 \n",
      "Epoch 36/200\n",
      "\u001B[1m34/34\u001B[0m \u001B[32m━━━━━━━━━━━━━━━━━━━━\u001B[0m\u001B[37m\u001B[0m \u001B[1m0s\u001B[0m 1ms/step - MAE: 7220.6001 - loss: 7220.5034 \n",
      "Epoch 37/200\n",
      "\u001B[1m34/34\u001B[0m \u001B[32m━━━━━━━━━━━━━━━━━━━━\u001B[0m\u001B[37m\u001B[0m \u001B[1m0s\u001B[0m 1ms/step - MAE: 7171.7397 - loss: 7171.6499 \n",
      "Epoch 38/200\n",
      "\u001B[1m34/34\u001B[0m \u001B[32m━━━━━━━━━━━━━━━━━━━━\u001B[0m\u001B[37m\u001B[0m \u001B[1m0s\u001B[0m 2ms/step - MAE: 7121.3677 - loss: 7121.2852\n",
      "Epoch 39/200\n",
      "\u001B[1m34/34\u001B[0m \u001B[32m━━━━━━━━━━━━━━━━━━━━\u001B[0m\u001B[37m\u001B[0m \u001B[1m0s\u001B[0m 2ms/step - MAE: 7069.4453 - loss: 7069.3701 \n",
      "Epoch 40/200\n",
      "\u001B[1m34/34\u001B[0m \u001B[32m━━━━━━━━━━━━━━━━━━━━\u001B[0m\u001B[37m\u001B[0m \u001B[1m0s\u001B[0m 2ms/step - MAE: 7015.9248 - loss: 7015.8564\n",
      "Epoch 41/200\n",
      "\u001B[1m34/34\u001B[0m \u001B[32m━━━━━━━━━━━━━━━━━━━━\u001B[0m\u001B[37m\u001B[0m \u001B[1m0s\u001B[0m 1ms/step - MAE: 6960.6733 - loss: 6960.6099 \n",
      "Epoch 42/200\n",
      "\u001B[1m34/34\u001B[0m \u001B[32m━━━━━━━━━━━━━━━━━━━━\u001B[0m\u001B[37m\u001B[0m \u001B[1m0s\u001B[0m 1ms/step - MAE: 6903.6548 - loss: 6903.5923 \n",
      "Epoch 43/200\n",
      "\u001B[1m34/34\u001B[0m \u001B[32m━━━━━━━━━━━━━━━━━━━━\u001B[0m\u001B[37m\u001B[0m \u001B[1m0s\u001B[0m 1ms/step - MAE: 6844.7300 - loss: 6844.6685 \n",
      "Epoch 44/200\n",
      "\u001B[1m34/34\u001B[0m \u001B[32m━━━━━━━━━━━━━━━━━━━━\u001B[0m\u001B[37m\u001B[0m \u001B[1m0s\u001B[0m 1ms/step - MAE: 6783.5415 - loss: 6783.4829 \n",
      "Epoch 45/200\n",
      "\u001B[1m34/34\u001B[0m \u001B[32m━━━━━━━━━━━━━━━━━━━━\u001B[0m\u001B[37m\u001B[0m \u001B[1m0s\u001B[0m 1ms/step - MAE: 6719.7368 - loss: 6719.6826 \n",
      "Epoch 46/200\n",
      "\u001B[1m34/34\u001B[0m \u001B[32m━━━━━━━━━━━━━━━━━━━━\u001B[0m\u001B[37m\u001B[0m \u001B[1m0s\u001B[0m 2ms/step - MAE: 6653.2114 - loss: 6653.1626\n",
      "Epoch 47/200\n",
      "\u001B[1m34/34\u001B[0m \u001B[32m━━━━━━━━━━━━━━━━━━━━\u001B[0m\u001B[37m\u001B[0m \u001B[1m0s\u001B[0m 1ms/step - MAE: 6583.8208 - loss: 6583.7783 \n",
      "Epoch 48/200\n",
      "\u001B[1m34/34\u001B[0m \u001B[32m━━━━━━━━━━━━━━━━━━━━\u001B[0m\u001B[37m\u001B[0m \u001B[1m0s\u001B[0m 2ms/step - MAE: 6511.6265 - loss: 6511.5898 \n",
      "Epoch 49/200\n",
      "\u001B[1m34/34\u001B[0m \u001B[32m━━━━━━━━━━━━━━━━━━━━\u001B[0m\u001B[37m\u001B[0m \u001B[1m0s\u001B[0m 1ms/step - MAE: 6435.9736 - loss: 6435.9453 \n",
      "Epoch 50/200\n",
      "\u001B[1m34/34\u001B[0m \u001B[32m━━━━━━━━━━━━━━━━━━━━\u001B[0m\u001B[37m\u001B[0m \u001B[1m0s\u001B[0m 1ms/step - MAE: 6357.2949 - loss: 6357.2715 \n",
      "Epoch 51/200\n",
      "\u001B[1m34/34\u001B[0m \u001B[32m━━━━━━━━━━━━━━━━━━━━\u001B[0m\u001B[37m\u001B[0m \u001B[1m0s\u001B[0m 1ms/step - MAE: 6274.8999 - loss: 6274.8774 \n",
      "Epoch 52/200\n",
      "\u001B[1m34/34\u001B[0m \u001B[32m━━━━━━━━━━━━━━━━━━━━\u001B[0m\u001B[37m\u001B[0m \u001B[1m0s\u001B[0m 2ms/step - MAE: 6188.4893 - loss: 6188.4648\n",
      "Epoch 53/200\n",
      "\u001B[1m34/34\u001B[0m \u001B[32m━━━━━━━━━━━━━━━━━━━━\u001B[0m\u001B[37m\u001B[0m \u001B[1m0s\u001B[0m 2ms/step - MAE: 6098.2783 - loss: 6098.2495\n",
      "Epoch 54/200\n",
      "\u001B[1m34/34\u001B[0m \u001B[32m━━━━━━━━━━━━━━━━━━━━\u001B[0m\u001B[37m\u001B[0m \u001B[1m0s\u001B[0m 1ms/step - MAE: 6003.6133 - loss: 6003.5811 \n",
      "Epoch 55/200\n",
      "\u001B[1m34/34\u001B[0m \u001B[32m━━━━━━━━━━━━━━━━━━━━\u001B[0m\u001B[37m\u001B[0m \u001B[1m0s\u001B[0m 1ms/step - MAE: 5904.5542 - loss: 5904.5190 \n",
      "Epoch 56/200\n",
      "\u001B[1m34/34\u001B[0m \u001B[32m━━━━━━━━━━━━━━━━━━━━\u001B[0m\u001B[37m\u001B[0m \u001B[1m0s\u001B[0m 1ms/step - MAE: 5800.7891 - loss: 5800.7480 \n",
      "Epoch 57/200\n",
      "\u001B[1m34/34\u001B[0m \u001B[32m━━━━━━━━━━━━━━━━━━━━\u001B[0m\u001B[37m\u001B[0m \u001B[1m0s\u001B[0m 1ms/step - MAE: 5691.9473 - loss: 5691.8940 \n",
      "Epoch 58/200\n",
      "\u001B[1m34/34\u001B[0m \u001B[32m━━━━━━━━━━━━━━━━━━━━\u001B[0m\u001B[37m\u001B[0m \u001B[1m0s\u001B[0m 1ms/step - MAE: 5577.9404 - loss: 5577.8740 \n",
      "Epoch 59/200\n",
      "\u001B[1m34/34\u001B[0m \u001B[32m━━━━━━━━━━━━━━━━━━━━\u001B[0m\u001B[37m\u001B[0m \u001B[1m0s\u001B[0m 1ms/step - MAE: 5461.1636 - loss: 5461.0723 \n",
      "Epoch 60/200\n",
      "\u001B[1m34/34\u001B[0m \u001B[32m━━━━━━━━━━━━━━━━━━━━\u001B[0m\u001B[37m\u001B[0m \u001B[1m0s\u001B[0m 2ms/step - MAE: 5344.7642 - loss: 5344.6455\n",
      "Epoch 61/200\n",
      "\u001B[1m34/34\u001B[0m \u001B[32m━━━━━━━━━━━━━━━━━━━━\u001B[0m\u001B[37m\u001B[0m \u001B[1m0s\u001B[0m 1ms/step - MAE: 5221.8667 - loss: 5221.7241 \n",
      "Epoch 62/200\n",
      "\u001B[1m34/34\u001B[0m \u001B[32m━━━━━━━━━━━━━━━━━━━━\u001B[0m\u001B[37m\u001B[0m \u001B[1m0s\u001B[0m 1ms/step - MAE: 5097.2148 - loss: 5097.0332 \n",
      "Epoch 63/200\n",
      "\u001B[1m34/34\u001B[0m \u001B[32m━━━━━━━━━━━━━━━━━━━━\u001B[0m\u001B[37m\u001B[0m \u001B[1m0s\u001B[0m 1ms/step - MAE: 4970.8013 - loss: 4970.5903 \n",
      "Epoch 64/200\n",
      "\u001B[1m34/34\u001B[0m \u001B[32m━━━━━━━━━━━━━━━━━━━━\u001B[0m\u001B[37m\u001B[0m \u001B[1m0s\u001B[0m 1ms/step - MAE: 4838.9619 - loss: 4838.7139 \n",
      "Epoch 65/200\n",
      "\u001B[1m34/34\u001B[0m \u001B[32m━━━━━━━━━━━━━━━━━━━━\u001B[0m\u001B[37m\u001B[0m \u001B[1m0s\u001B[0m 1ms/step - MAE: 4709.5454 - loss: 4709.2510 \n",
      "Epoch 66/200\n",
      "\u001B[1m34/34\u001B[0m \u001B[32m━━━━━━━━━━━━━━━━━━━━\u001B[0m\u001B[37m\u001B[0m \u001B[1m0s\u001B[0m 1ms/step - MAE: 4581.9150 - loss: 4581.5645 \n",
      "Epoch 67/200\n",
      "\u001B[1m34/34\u001B[0m \u001B[32m━━━━━━━━━━━━━━━━━━━━\u001B[0m\u001B[37m\u001B[0m \u001B[1m0s\u001B[0m 1ms/step - MAE: 4457.9585 - loss: 4457.5479 \n",
      "Epoch 68/200\n",
      "\u001B[1m34/34\u001B[0m \u001B[32m━━━━━━━━━━━━━━━━━━━━\u001B[0m\u001B[37m\u001B[0m \u001B[1m0s\u001B[0m 1ms/step - MAE: 4345.6841 - loss: 4345.1924 \n",
      "Epoch 69/200\n",
      "\u001B[1m34/34\u001B[0m \u001B[32m━━━━━━━━━━━━━━━━━━━━\u001B[0m\u001B[37m\u001B[0m \u001B[1m0s\u001B[0m 1ms/step - MAE: 4240.5278 - loss: 4239.9678 \n",
      "Epoch 70/200\n",
      "\u001B[1m34/34\u001B[0m \u001B[32m━━━━━━━━━━━━━━━━━━━━\u001B[0m\u001B[37m\u001B[0m \u001B[1m0s\u001B[0m 1ms/step - MAE: 4142.9492 - loss: 4142.3364 \n",
      "Epoch 71/200\n",
      "\u001B[1m34/34\u001B[0m \u001B[32m━━━━━━━━━━━━━━━━━━━━\u001B[0m\u001B[37m\u001B[0m \u001B[1m0s\u001B[0m 1ms/step - MAE: 4054.0203 - loss: 4053.3528 \n",
      "Epoch 72/200\n",
      "\u001B[1m34/34\u001B[0m \u001B[32m━━━━━━━━━━━━━━━━━━━━\u001B[0m\u001B[37m\u001B[0m \u001B[1m0s\u001B[0m 1ms/step - MAE: 3970.7507 - loss: 3970.0203 \n",
      "Epoch 73/200\n",
      "\u001B[1m34/34\u001B[0m \u001B[32m━━━━━━━━━━━━━━━━━━━━\u001B[0m\u001B[37m\u001B[0m \u001B[1m0s\u001B[0m 1ms/step - MAE: 3895.8516 - loss: 3895.0588 \n",
      "Epoch 74/200\n",
      "\u001B[1m34/34\u001B[0m \u001B[32m━━━━━━━━━━━━━━━━━━━━\u001B[0m\u001B[37m\u001B[0m \u001B[1m0s\u001B[0m 1ms/step - MAE: 3828.4358 - loss: 3827.5920 \n",
      "Epoch 75/200\n",
      "\u001B[1m34/34\u001B[0m \u001B[32m━━━━━━━━━━━━━━━━━━━━\u001B[0m\u001B[37m\u001B[0m \u001B[1m0s\u001B[0m 1ms/step - MAE: 3775.5251 - loss: 3774.6218 \n",
      "Epoch 76/200\n",
      "\u001B[1m34/34\u001B[0m \u001B[32m━━━━━━━━━━━━━━━━━━━━\u001B[0m\u001B[37m\u001B[0m \u001B[1m0s\u001B[0m 1ms/step - MAE: 3731.1714 - loss: 3730.2097 \n",
      "Epoch 77/200\n",
      "\u001B[1m34/34\u001B[0m \u001B[32m━━━━━━━━━━━━━━━━━━━━\u001B[0m\u001B[37m\u001B[0m \u001B[1m0s\u001B[0m 1ms/step - MAE: 3697.3672 - loss: 3696.3677 \n",
      "Epoch 78/200\n",
      "\u001B[1m34/34\u001B[0m \u001B[32m━━━━━━━━━━━━━━━━━━━━\u001B[0m\u001B[37m\u001B[0m \u001B[1m0s\u001B[0m 1ms/step - MAE: 3673.4639 - loss: 3672.4270 \n",
      "Epoch 79/200\n",
      "\u001B[1m34/34\u001B[0m \u001B[32m━━━━━━━━━━━━━━━━━━━━\u001B[0m\u001B[37m\u001B[0m \u001B[1m0s\u001B[0m 1ms/step - MAE: 3656.2573 - loss: 3655.1880 \n",
      "Epoch 80/200\n",
      "\u001B[1m34/34\u001B[0m \u001B[32m━━━━━━━━━━━━━━━━━━━━\u001B[0m\u001B[37m\u001B[0m \u001B[1m0s\u001B[0m 1ms/step - MAE: 3644.7063 - loss: 3643.6040 \n",
      "Epoch 81/200\n",
      "\u001B[1m34/34\u001B[0m \u001B[32m━━━━━━━━━━━━━━━━━━━━\u001B[0m\u001B[37m\u001B[0m \u001B[1m0s\u001B[0m 1ms/step - MAE: 3636.4634 - loss: 3635.3376 \n",
      "Epoch 82/200\n",
      "\u001B[1m34/34\u001B[0m \u001B[32m━━━━━━━━━━━━━━━━━━━━\u001B[0m\u001B[37m\u001B[0m \u001B[1m0s\u001B[0m 1ms/step - MAE: 3631.5984 - loss: 3630.4453 \n",
      "Epoch 83/200\n",
      "\u001B[1m34/34\u001B[0m \u001B[32m━━━━━━━━━━━━━━━━━━━━\u001B[0m\u001B[37m\u001B[0m \u001B[1m0s\u001B[0m 943us/step - MAE: 3627.8413 - loss: 3626.6638\n",
      "Epoch 84/200\n",
      "\u001B[1m34/34\u001B[0m \u001B[32m━━━━━━━━━━━━━━━━━━━━\u001B[0m\u001B[37m\u001B[0m \u001B[1m0s\u001B[0m 1ms/step - MAE: 3625.1726 - loss: 3623.9749 \n",
      "Epoch 85/200\n",
      "\u001B[1m34/34\u001B[0m \u001B[32m━━━━━━━━━━━━━━━━━━━━\u001B[0m\u001B[37m\u001B[0m \u001B[1m0s\u001B[0m 1ms/step - MAE: 3623.7114 - loss: 3622.4980 \n",
      "Epoch 86/200\n",
      "\u001B[1m34/34\u001B[0m \u001B[32m━━━━━━━━━━━━━━━━━━━━\u001B[0m\u001B[37m\u001B[0m \u001B[1m0s\u001B[0m 1ms/step - MAE: 3622.3506 - loss: 3621.1245 \n",
      "Epoch 87/200\n",
      "\u001B[1m34/34\u001B[0m \u001B[32m━━━━━━━━━━━━━━━━━━━━\u001B[0m\u001B[37m\u001B[0m \u001B[1m0s\u001B[0m 1ms/step - MAE: 3621.2400 - loss: 3620.0027 \n",
      "Epoch 88/200\n",
      "\u001B[1m34/34\u001B[0m \u001B[32m━━━━━━━━━━━━━━━━━━━━\u001B[0m\u001B[37m\u001B[0m \u001B[1m0s\u001B[0m 1ms/step - MAE: 3620.1506 - loss: 3618.9028 \n",
      "Epoch 89/200\n",
      "\u001B[1m34/34\u001B[0m \u001B[32m━━━━━━━━━━━━━━━━━━━━\u001B[0m\u001B[37m\u001B[0m \u001B[1m0s\u001B[0m 990us/step - MAE: 3618.9077 - loss: 3617.6477\n",
      "Epoch 90/200\n",
      "\u001B[1m34/34\u001B[0m \u001B[32m━━━━━━━━━━━━━━━━━━━━\u001B[0m\u001B[37m\u001B[0m \u001B[1m0s\u001B[0m 1ms/step - MAE: 3618.0859 - loss: 3616.8142 \n",
      "Epoch 91/200\n",
      "\u001B[1m34/34\u001B[0m \u001B[32m━━━━━━━━━━━━━━━━━━━━\u001B[0m\u001B[37m\u001B[0m \u001B[1m0s\u001B[0m 1ms/step - MAE: 3617.2871 - loss: 3616.0044 \n",
      "Epoch 92/200\n",
      "\u001B[1m34/34\u001B[0m \u001B[32m━━━━━━━━━━━━━━━━━━━━\u001B[0m\u001B[37m\u001B[0m \u001B[1m0s\u001B[0m 1ms/step - MAE: 3616.5027 - loss: 3615.2083 \n",
      "Epoch 93/200\n",
      "\u001B[1m34/34\u001B[0m \u001B[32m━━━━━━━━━━━━━━━━━━━━\u001B[0m\u001B[37m\u001B[0m \u001B[1m0s\u001B[0m 986us/step - MAE: 3615.8389 - loss: 3614.5325\n",
      "Epoch 94/200\n",
      "\u001B[1m34/34\u001B[0m \u001B[32m━━━━━━━━━━━━━━━━━━━━\u001B[0m\u001B[37m\u001B[0m \u001B[1m0s\u001B[0m 1ms/step - MAE: 3615.1921 - loss: 3613.8750 \n",
      "Epoch 95/200\n",
      "\u001B[1m34/34\u001B[0m \u001B[32m━━━━━━━━━━━━━━━━━━━━\u001B[0m\u001B[37m\u001B[0m \u001B[1m0s\u001B[0m 1ms/step - MAE: 3613.9419 - loss: 3612.6128 \n",
      "Epoch 96/200\n",
      "\u001B[1m34/34\u001B[0m \u001B[32m━━━━━━━━━━━━━━━━━━━━\u001B[0m\u001B[37m\u001B[0m \u001B[1m0s\u001B[0m 1ms/step - MAE: 3613.1902 - loss: 3611.8494 \n",
      "Epoch 97/200\n",
      "\u001B[1m34/34\u001B[0m \u001B[32m━━━━━━━━━━━━━━━━━━━━\u001B[0m\u001B[37m\u001B[0m \u001B[1m0s\u001B[0m 1ms/step - MAE: 3612.3337 - loss: 3610.9807 \n",
      "Epoch 98/200\n",
      "\u001B[1m34/34\u001B[0m \u001B[32m━━━━━━━━━━━━━━━━━━━━\u001B[0m\u001B[37m\u001B[0m \u001B[1m0s\u001B[0m 1ms/step - MAE: 3611.4524 - loss: 3610.0874 \n",
      "Epoch 99/200\n",
      "\u001B[1m34/34\u001B[0m \u001B[32m━━━━━━━━━━━━━━━━━━━━\u001B[0m\u001B[37m\u001B[0m \u001B[1m0s\u001B[0m 1ms/step - MAE: 3610.5425 - loss: 3609.1658 \n",
      "Epoch 100/200\n",
      "\u001B[1m34/34\u001B[0m \u001B[32m━━━━━━━━━━━━━━━━━━━━\u001B[0m\u001B[37m\u001B[0m \u001B[1m0s\u001B[0m 1ms/step - MAE: 3609.6428 - loss: 3608.2546 \n",
      "Epoch 101/200\n",
      "\u001B[1m34/34\u001B[0m \u001B[32m━━━━━━━━━━━━━━━━━━━━\u001B[0m\u001B[37m\u001B[0m \u001B[1m0s\u001B[0m 1ms/step - MAE: 3608.8401 - loss: 3607.4402 \n",
      "Epoch 102/200\n",
      "\u001B[1m34/34\u001B[0m \u001B[32m━━━━━━━━━━━━━━━━━━━━\u001B[0m\u001B[37m\u001B[0m \u001B[1m0s\u001B[0m 1ms/step - MAE: 3607.7720 - loss: 3606.3599 \n",
      "Epoch 103/200\n",
      "\u001B[1m34/34\u001B[0m \u001B[32m━━━━━━━━━━━━━━━━━━━━\u001B[0m\u001B[37m\u001B[0m \u001B[1m0s\u001B[0m 1ms/step - MAE: 3606.7988 - loss: 3605.3735 \n",
      "Epoch 104/200\n",
      "\u001B[1m34/34\u001B[0m \u001B[32m━━━━━━━━━━━━━━━━━━━━\u001B[0m\u001B[37m\u001B[0m \u001B[1m0s\u001B[0m 936us/step - MAE: 3606.0156 - loss: 3604.5779\n",
      "Epoch 105/200\n",
      "\u001B[1m34/34\u001B[0m \u001B[32m━━━━━━━━━━━━━━━━━━━━\u001B[0m\u001B[37m\u001B[0m \u001B[1m0s\u001B[0m 1ms/step - MAE: 3604.9897 - loss: 3603.5388 \n",
      "Epoch 106/200\n",
      "\u001B[1m34/34\u001B[0m \u001B[32m━━━━━━━━━━━━━━━━━━━━\u001B[0m\u001B[37m\u001B[0m \u001B[1m0s\u001B[0m 1ms/step - MAE: 3604.1633 - loss: 3602.6992 \n",
      "Epoch 107/200\n",
      "\u001B[1m34/34\u001B[0m \u001B[32m━━━━━━━━━━━━━━━━━━━━\u001B[0m\u001B[37m\u001B[0m \u001B[1m0s\u001B[0m 1ms/step - MAE: 3603.2161 - loss: 3601.7378 \n",
      "Epoch 108/200\n",
      "\u001B[1m34/34\u001B[0m \u001B[32m━━━━━━━━━━━━━━━━━━━━\u001B[0m\u001B[37m\u001B[0m \u001B[1m0s\u001B[0m 1ms/step - MAE: 3602.3652 - loss: 3600.8733 \n",
      "Epoch 109/200\n",
      "\u001B[1m34/34\u001B[0m \u001B[32m━━━━━━━━━━━━━━━━━━━━\u001B[0m\u001B[37m\u001B[0m \u001B[1m0s\u001B[0m 2ms/step - MAE: 3601.4939 - loss: 3599.9895\n",
      "Epoch 110/200\n",
      "\u001B[1m34/34\u001B[0m \u001B[32m━━━━━━━━━━━━━━━━━━━━\u001B[0m\u001B[37m\u001B[0m \u001B[1m0s\u001B[0m 1ms/step - MAE: 3600.2534 - loss: 3598.7354 \n",
      "Epoch 111/200\n",
      "\u001B[1m34/34\u001B[0m \u001B[32m━━━━━━━━━━━━━━━━━━━━\u001B[0m\u001B[37m\u001B[0m \u001B[1m0s\u001B[0m 1ms/step - MAE: 3599.4033 - loss: 3597.8723 \n",
      "Epoch 112/200\n",
      "\u001B[1m34/34\u001B[0m \u001B[32m━━━━━━━━━━━━━━━━━━━━\u001B[0m\u001B[37m\u001B[0m \u001B[1m0s\u001B[0m 982us/step - MAE: 3598.2314 - loss: 3596.6873\n",
      "Epoch 113/200\n",
      "\u001B[1m34/34\u001B[0m \u001B[32m━━━━━━━━━━━━━━━━━━━━\u001B[0m\u001B[37m\u001B[0m \u001B[1m0s\u001B[0m 982us/step - MAE: 3597.2178 - loss: 3595.6594\n",
      "Epoch 114/200\n",
      "\u001B[1m34/34\u001B[0m \u001B[32m━━━━━━━━━━━━━━━━━━━━\u001B[0m\u001B[37m\u001B[0m \u001B[1m0s\u001B[0m 1ms/step - MAE: 3596.0742 - loss: 3594.5022 \n",
      "Epoch 115/200\n",
      "\u001B[1m34/34\u001B[0m \u001B[32m━━━━━━━━━━━━━━━━━━━━\u001B[0m\u001B[37m\u001B[0m \u001B[1m0s\u001B[0m 1ms/step - MAE: 3595.0381 - loss: 3593.4519 \n",
      "Epoch 116/200\n",
      "\u001B[1m34/34\u001B[0m \u001B[32m━━━━━━━━━━━━━━━━━━━━\u001B[0m\u001B[37m\u001B[0m \u001B[1m0s\u001B[0m 1ms/step - MAE: 3593.9412 - loss: 3592.3408 \n",
      "Epoch 117/200\n",
      "\u001B[1m34/34\u001B[0m \u001B[32m━━━━━━━━━━━━━━━━━━━━\u001B[0m\u001B[37m\u001B[0m \u001B[1m0s\u001B[0m 1ms/step - MAE: 3592.8262 - loss: 3591.2112 \n",
      "Epoch 118/200\n",
      "\u001B[1m34/34\u001B[0m \u001B[32m━━━━━━━━━━━━━━━━━━━━\u001B[0m\u001B[37m\u001B[0m \u001B[1m0s\u001B[0m 1ms/step - MAE: 3591.7876 - loss: 3590.1582 \n",
      "Epoch 119/200\n",
      "\u001B[1m34/34\u001B[0m \u001B[32m━━━━━━━━━━━━━━━━━━━━\u001B[0m\u001B[37m\u001B[0m \u001B[1m0s\u001B[0m 1ms/step - MAE: 3590.6221 - loss: 3588.9771 \n",
      "Epoch 120/200\n",
      "\u001B[1m34/34\u001B[0m \u001B[32m━━━━━━━━━━━━━━━━━━━━\u001B[0m\u001B[37m\u001B[0m \u001B[1m0s\u001B[0m 1ms/step - MAE: 3589.6609 - loss: 3588.0007 \n",
      "Epoch 121/200\n",
      "\u001B[1m34/34\u001B[0m \u001B[32m━━━━━━━━━━━━━━━━━━━━\u001B[0m\u001B[37m\u001B[0m \u001B[1m0s\u001B[0m 1ms/step - MAE: 3588.7566 - loss: 3587.0818 \n",
      "Epoch 122/200\n",
      "\u001B[1m34/34\u001B[0m \u001B[32m━━━━━━━━━━━━━━━━━━━━\u001B[0m\u001B[37m\u001B[0m \u001B[1m0s\u001B[0m 1ms/step - MAE: 3587.4775 - loss: 3585.7869 \n",
      "Epoch 123/200\n",
      "\u001B[1m34/34\u001B[0m \u001B[32m━━━━━━━━━━━━━━━━━━━━\u001B[0m\u001B[37m\u001B[0m \u001B[1m0s\u001B[0m 1ms/step - MAE: 3586.2659 - loss: 3584.5593 \n",
      "Epoch 124/200\n",
      "\u001B[1m34/34\u001B[0m \u001B[32m━━━━━━━━━━━━━━━━━━━━\u001B[0m\u001B[37m\u001B[0m \u001B[1m0s\u001B[0m 935us/step - MAE: 3585.3945 - loss: 3583.6726\n",
      "Epoch 125/200\n",
      "\u001B[1m34/34\u001B[0m \u001B[32m━━━━━━━━━━━━━━━━━━━━\u001B[0m\u001B[37m\u001B[0m \u001B[1m0s\u001B[0m 1ms/step - MAE: 3584.1680 - loss: 3582.4304 \n",
      "Epoch 126/200\n",
      "\u001B[1m34/34\u001B[0m \u001B[32m━━━━━━━━━━━━━━━━━━━━\u001B[0m\u001B[37m\u001B[0m \u001B[1m0s\u001B[0m 1ms/step - MAE: 3582.9275 - loss: 3581.1741 \n",
      "Epoch 127/200\n",
      "\u001B[1m34/34\u001B[0m \u001B[32m━━━━━━━━━━━━━━━━━━━━\u001B[0m\u001B[37m\u001B[0m \u001B[1m0s\u001B[0m 1ms/step - MAE: 3581.7917 - loss: 3580.0215 \n",
      "Epoch 128/200\n",
      "\u001B[1m34/34\u001B[0m \u001B[32m━━━━━━━━━━━━━━━━━━━━\u001B[0m\u001B[37m\u001B[0m \u001B[1m0s\u001B[0m 1ms/step - MAE: 3580.6812 - loss: 3578.8953 \n",
      "Epoch 129/200\n",
      "\u001B[1m34/34\u001B[0m \u001B[32m━━━━━━━━━━━━━━━━━━━━\u001B[0m\u001B[37m\u001B[0m \u001B[1m0s\u001B[0m 1ms/step - MAE: 3579.7224 - loss: 3577.9219 \n",
      "Epoch 130/200\n",
      "\u001B[1m34/34\u001B[0m \u001B[32m━━━━━━━━━━━━━━━━━━━━\u001B[0m\u001B[37m\u001B[0m \u001B[1m0s\u001B[0m 1ms/step - MAE: 3578.7192 - loss: 3576.9043 \n",
      "Epoch 131/200\n",
      "\u001B[1m34/34\u001B[0m \u001B[32m━━━━━━━━━━━━━━━━━━━━\u001B[0m\u001B[37m\u001B[0m \u001B[1m0s\u001B[0m 969us/step - MAE: 3577.7368 - loss: 3575.9060\n",
      "Epoch 132/200\n",
      "\u001B[1m34/34\u001B[0m \u001B[32m━━━━━━━━━━━━━━━━━━━━\u001B[0m\u001B[37m\u001B[0m \u001B[1m0s\u001B[0m 949us/step - MAE: 3576.7368 - loss: 3574.8901\n",
      "Epoch 133/200\n",
      "\u001B[1m34/34\u001B[0m \u001B[32m━━━━━━━━━━━━━━━━━━━━\u001B[0m\u001B[37m\u001B[0m \u001B[1m0s\u001B[0m 1ms/step - MAE: 3576.4890 - loss: 3574.6270 \n",
      "Epoch 134/200\n",
      "\u001B[1m34/34\u001B[0m \u001B[32m━━━━━━━━━━━━━━━━━━━━\u001B[0m\u001B[37m\u001B[0m \u001B[1m0s\u001B[0m 978us/step - MAE: 3576.2627 - loss: 3574.3875\n",
      "Epoch 135/200\n",
      "\u001B[1m34/34\u001B[0m \u001B[32m━━━━━━━━━━━━━━━━━━━━\u001B[0m\u001B[37m\u001B[0m \u001B[1m0s\u001B[0m 1ms/step - MAE: 3575.8354 - loss: 3573.9453 \n",
      "Epoch 136/200\n",
      "\u001B[1m34/34\u001B[0m \u001B[32m━━━━━━━━━━━━━━━━━━━━\u001B[0m\u001B[37m\u001B[0m \u001B[1m0s\u001B[0m 1ms/step - MAE: 3575.5884 - loss: 3573.6838 \n",
      "Epoch 137/200\n",
      "\u001B[1m34/34\u001B[0m \u001B[32m━━━━━━━━━━━━━━━━━━━━\u001B[0m\u001B[37m\u001B[0m \u001B[1m0s\u001B[0m 1ms/step - MAE: 3575.2109 - loss: 3573.2917 \n",
      "Epoch 138/200\n",
      "\u001B[1m34/34\u001B[0m \u001B[32m━━━━━━━━━━━━━━━━━━━━\u001B[0m\u001B[37m\u001B[0m \u001B[1m0s\u001B[0m 1ms/step - MAE: 3574.8447 - loss: 3572.9097 \n",
      "Epoch 139/200\n",
      "\u001B[1m34/34\u001B[0m \u001B[32m━━━━━━━━━━━━━━━━━━━━\u001B[0m\u001B[37m\u001B[0m \u001B[1m0s\u001B[0m 1ms/step - MAE: 3574.8069 - loss: 3572.8577 \n",
      "Epoch 140/200\n",
      "\u001B[1m34/34\u001B[0m \u001B[32m━━━━━━━━━━━━━━━━━━━━\u001B[0m\u001B[37m\u001B[0m \u001B[1m0s\u001B[0m 1ms/step - MAE: 3574.0720 - loss: 3572.1064 \n",
      "Epoch 141/200\n",
      "\u001B[1m34/34\u001B[0m \u001B[32m━━━━━━━━━━━━━━━━━━━━\u001B[0m\u001B[37m\u001B[0m \u001B[1m0s\u001B[0m 1ms/step - MAE: 3574.0122 - loss: 3572.0320 \n",
      "Epoch 142/200\n",
      "\u001B[1m34/34\u001B[0m \u001B[32m━━━━━━━━━━━━━━━━━━━━\u001B[0m\u001B[37m\u001B[0m \u001B[1m0s\u001B[0m 1ms/step - MAE: 3573.4722 - loss: 3571.4756 \n",
      "Epoch 143/200\n",
      "\u001B[1m34/34\u001B[0m \u001B[32m━━━━━━━━━━━━━━━━━━━━\u001B[0m\u001B[37m\u001B[0m \u001B[1m0s\u001B[0m 1ms/step - MAE: 3573.2954 - loss: 3571.2822 \n",
      "Epoch 144/200\n",
      "\u001B[1m34/34\u001B[0m \u001B[32m━━━━━━━━━━━━━━━━━━━━\u001B[0m\u001B[37m\u001B[0m \u001B[1m0s\u001B[0m 1ms/step - MAE: 3573.2485 - loss: 3571.2212 \n",
      "Epoch 145/200\n",
      "\u001B[1m34/34\u001B[0m \u001B[32m━━━━━━━━━━━━━━━━━━━━\u001B[0m\u001B[37m\u001B[0m \u001B[1m0s\u001B[0m 1ms/step - MAE: 3572.4829 - loss: 3570.4387 \n",
      "Epoch 146/200\n",
      "\u001B[1m34/34\u001B[0m \u001B[32m━━━━━━━━━━━━━━━━━━━━\u001B[0m\u001B[37m\u001B[0m \u001B[1m0s\u001B[0m 987us/step - MAE: 3572.5364 - loss: 3570.4749\n",
      "Epoch 147/200\n",
      "\u001B[1m34/34\u001B[0m \u001B[32m━━━━━━━━━━━━━━━━━━━━\u001B[0m\u001B[37m\u001B[0m \u001B[1m0s\u001B[0m 1ms/step - MAE: 3572.5212 - loss: 3570.4448 \n",
      "Epoch 148/200\n",
      "\u001B[1m34/34\u001B[0m \u001B[32m━━━━━━━━━━━━━━━━━━━━\u001B[0m\u001B[37m\u001B[0m \u001B[1m0s\u001B[0m 960us/step - MAE: 3572.0469 - loss: 3569.9541\n",
      "Epoch 149/200\n",
      "\u001B[1m34/34\u001B[0m \u001B[32m━━━━━━━━━━━━━━━━━━━━\u001B[0m\u001B[37m\u001B[0m \u001B[1m0s\u001B[0m 1ms/step - MAE: 3571.9302 - loss: 3569.8230 \n",
      "Epoch 150/200\n",
      "\u001B[1m34/34\u001B[0m \u001B[32m━━━━━━━━━━━━━━━━━━━━\u001B[0m\u001B[37m\u001B[0m \u001B[1m0s\u001B[0m 977us/step - MAE: 3571.4614 - loss: 3569.3386\n",
      "Epoch 151/200\n",
      "\u001B[1m34/34\u001B[0m \u001B[32m━━━━━━━━━━━━━━━━━━━━\u001B[0m\u001B[37m\u001B[0m \u001B[1m0s\u001B[0m 1ms/step - MAE: 3571.3286 - loss: 3569.1902 \n",
      "Epoch 152/200\n",
      "\u001B[1m34/34\u001B[0m \u001B[32m━━━━━━━━━━━━━━━━━━━━\u001B[0m\u001B[37m\u001B[0m \u001B[1m0s\u001B[0m 1ms/step - MAE: 3571.3970 - loss: 3569.2424 \n",
      "Epoch 153/200\n",
      "\u001B[1m34/34\u001B[0m \u001B[32m━━━━━━━━━━━━━━━━━━━━\u001B[0m\u001B[37m\u001B[0m \u001B[1m0s\u001B[0m 1ms/step - MAE: 3571.3074 - loss: 3569.1387 \n",
      "Epoch 154/200\n",
      "\u001B[1m34/34\u001B[0m \u001B[32m━━━━━━━━━━━━━━━━━━━━\u001B[0m\u001B[37m\u001B[0m \u001B[1m0s\u001B[0m 1ms/step - MAE: 3570.8120 - loss: 3568.6277 \n",
      "Epoch 155/200\n",
      "\u001B[1m34/34\u001B[0m \u001B[32m━━━━━━━━━━━━━━━━━━━━\u001B[0m\u001B[37m\u001B[0m \u001B[1m0s\u001B[0m 1ms/step - MAE: 3570.7461 - loss: 3568.5452 \n",
      "Epoch 156/200\n",
      "\u001B[1m34/34\u001B[0m \u001B[32m━━━━━━━━━━━━━━━━━━━━\u001B[0m\u001B[37m\u001B[0m \u001B[1m0s\u001B[0m 1ms/step - MAE: 3570.6533 - loss: 3568.4382 \n",
      "Epoch 157/200\n",
      "\u001B[1m34/34\u001B[0m \u001B[32m━━━━━━━━━━━━━━━━━━━━\u001B[0m\u001B[37m\u001B[0m \u001B[1m0s\u001B[0m 938us/step - MAE: 3570.1499 - loss: 3567.9189\n",
      "Epoch 158/200\n",
      "\u001B[1m34/34\u001B[0m \u001B[32m━━━━━━━━━━━━━━━━━━━━\u001B[0m\u001B[37m\u001B[0m \u001B[1m0s\u001B[0m 998us/step - MAE: 3569.8960 - loss: 3567.6487\n",
      "Epoch 159/200\n",
      "\u001B[1m34/34\u001B[0m \u001B[32m━━━━━━━━━━━━━━━━━━━━\u001B[0m\u001B[37m\u001B[0m \u001B[1m0s\u001B[0m 976us/step - MAE: 3569.7820 - loss: 3567.5186\n",
      "Epoch 160/200\n",
      "\u001B[1m34/34\u001B[0m \u001B[32m━━━━━━━━━━━━━━━━━━━━\u001B[0m\u001B[37m\u001B[0m \u001B[1m0s\u001B[0m 1ms/step - MAE: 3569.5273 - loss: 3567.2480 \n",
      "Epoch 161/200\n",
      "\u001B[1m34/34\u001B[0m \u001B[32m━━━━━━━━━━━━━━━━━━━━\u001B[0m\u001B[37m\u001B[0m \u001B[1m0s\u001B[0m 1ms/step - MAE: 3569.4524 - loss: 3567.1572 \n",
      "Epoch 162/200\n",
      "\u001B[1m34/34\u001B[0m \u001B[32m━━━━━━━━━━━━━━━━━━━━\u001B[0m\u001B[37m\u001B[0m \u001B[1m0s\u001B[0m 1ms/step - MAE: 3569.1785 - loss: 3566.8669 \n",
      "Epoch 163/200\n",
      "\u001B[1m34/34\u001B[0m \u001B[32m━━━━━━━━━━━━━━━━━━━━\u001B[0m\u001B[37m\u001B[0m \u001B[1m0s\u001B[0m 964us/step - MAE: 3568.9351 - loss: 3566.6084\n",
      "Epoch 164/200\n",
      "\u001B[1m34/34\u001B[0m \u001B[32m━━━━━━━━━━━━━━━━━━━━\u001B[0m\u001B[37m\u001B[0m \u001B[1m0s\u001B[0m 1ms/step - MAE: 3568.6309 - loss: 3566.2869 \n",
      "Epoch 165/200\n",
      "\u001B[1m34/34\u001B[0m \u001B[32m━━━━━━━━━━━━━━━━━━━━\u001B[0m\u001B[37m\u001B[0m \u001B[1m0s\u001B[0m 971us/step - MAE: 3568.5222 - loss: 3566.1616\n",
      "Epoch 166/200\n",
      "\u001B[1m34/34\u001B[0m \u001B[32m━━━━━━━━━━━━━━━━━━━━\u001B[0m\u001B[37m\u001B[0m \u001B[1m0s\u001B[0m 1ms/step - MAE: 3568.2866 - loss: 3565.9102 \n",
      "Epoch 167/200\n",
      "\u001B[1m34/34\u001B[0m \u001B[32m━━━━━━━━━━━━━━━━━━━━\u001B[0m\u001B[37m\u001B[0m \u001B[1m0s\u001B[0m 998us/step - MAE: 3568.0415 - loss: 3565.6494\n",
      "Epoch 168/200\n",
      "\u001B[1m34/34\u001B[0m \u001B[32m━━━━━━━━━━━━━━━━━━━━\u001B[0m\u001B[37m\u001B[0m \u001B[1m0s\u001B[0m 947us/step - MAE: 3567.5564 - loss: 3565.1479\n",
      "Epoch 169/200\n",
      "\u001B[1m34/34\u001B[0m \u001B[32m━━━━━━━━━━━━━━━━━━━━\u001B[0m\u001B[37m\u001B[0m \u001B[1m0s\u001B[0m 1ms/step - MAE: 3567.4578 - loss: 3565.0315 \n",
      "Epoch 170/200\n",
      "\u001B[1m34/34\u001B[0m \u001B[32m━━━━━━━━━━━━━━━━━━━━\u001B[0m\u001B[37m\u001B[0m \u001B[1m0s\u001B[0m 1ms/step - MAE: 3567.3542 - loss: 3564.9114 \n",
      "Epoch 171/200\n",
      "\u001B[1m34/34\u001B[0m \u001B[32m━━━━━━━━━━━━━━━━━━━━\u001B[0m\u001B[37m\u001B[0m \u001B[1m0s\u001B[0m 988us/step - MAE: 3567.1299 - loss: 3564.6704\n",
      "Epoch 172/200\n",
      "\u001B[1m34/34\u001B[0m \u001B[32m━━━━━━━━━━━━━━━━━━━━\u001B[0m\u001B[37m\u001B[0m \u001B[1m0s\u001B[0m 1ms/step - MAE: 3566.8635 - loss: 3564.3867 \n",
      "Epoch 173/200\n",
      "\u001B[1m34/34\u001B[0m \u001B[32m━━━━━━━━━━━━━━━━━━━━\u001B[0m\u001B[37m\u001B[0m \u001B[1m0s\u001B[0m 1ms/step - MAE: 3566.5601 - loss: 3564.0674 \n",
      "Epoch 174/200\n",
      "\u001B[1m34/34\u001B[0m \u001B[32m━━━━━━━━━━━━━━━━━━━━\u001B[0m\u001B[37m\u001B[0m \u001B[1m0s\u001B[0m 1ms/step - MAE: 3566.2910 - loss: 3563.7808 \n",
      "Epoch 175/200\n",
      "\u001B[1m34/34\u001B[0m \u001B[32m━━━━━━━━━━━━━━━━━━━━\u001B[0m\u001B[37m\u001B[0m \u001B[1m0s\u001B[0m 1ms/step - MAE: 3566.1174 - loss: 3563.5911 \n",
      "Epoch 176/200\n",
      "\u001B[1m34/34\u001B[0m \u001B[32m━━━━━━━━━━━━━━━━━━━━\u001B[0m\u001B[37m\u001B[0m \u001B[1m0s\u001B[0m 1ms/step - MAE: 3565.8164 - loss: 3563.2732 \n",
      "Epoch 177/200\n",
      "\u001B[1m34/34\u001B[0m \u001B[32m━━━━━━━━━━━━━━━━━━━━\u001B[0m\u001B[37m\u001B[0m \u001B[1m0s\u001B[0m 928us/step - MAE: 3565.3823 - loss: 3562.8279\n",
      "Epoch 178/200\n",
      "\u001B[1m34/34\u001B[0m \u001B[32m━━━━━━━━━━━━━━━━━━━━\u001B[0m\u001B[37m\u001B[0m \u001B[1m0s\u001B[0m 1ms/step - MAE: 3565.1133 - loss: 3562.5491 \n",
      "Epoch 179/200\n",
      "\u001B[1m34/34\u001B[0m \u001B[32m━━━━━━━━━━━━━━━━━━━━\u001B[0m\u001B[37m\u001B[0m \u001B[1m0s\u001B[0m 1ms/step - MAE: 3565.1545 - loss: 3562.5789 \n",
      "Epoch 180/200\n",
      "\u001B[1m34/34\u001B[0m \u001B[32m━━━━━━━━━━━━━━━━━━━━\u001B[0m\u001B[37m\u001B[0m \u001B[1m0s\u001B[0m 1ms/step - MAE: 3565.3809 - loss: 3562.7944 \n",
      "Epoch 181/200\n",
      "\u001B[1m34/34\u001B[0m \u001B[32m━━━━━━━━━━━━━━━━━━━━\u001B[0m\u001B[37m\u001B[0m \u001B[1m0s\u001B[0m 1ms/step - MAE: 3565.5664 - loss: 3562.9722 \n",
      "Epoch 182/200\n",
      "\u001B[1m34/34\u001B[0m \u001B[32m━━━━━━━━━━━━━━━━━━━━\u001B[0m\u001B[37m\u001B[0m \u001B[1m0s\u001B[0m 1ms/step - MAE: 3565.8718 - loss: 3563.2717 \n",
      "Epoch 183/200\n",
      "\u001B[1m34/34\u001B[0m \u001B[32m━━━━━━━━━━━━━━━━━━━━\u001B[0m\u001B[37m\u001B[0m \u001B[1m0s\u001B[0m 943us/step - MAE: 3565.8506 - loss: 3563.2458\n",
      "Epoch 184/200\n",
      "\u001B[1m34/34\u001B[0m \u001B[32m━━━━━━━━━━━━━━━━━━━━\u001B[0m\u001B[37m\u001B[0m \u001B[1m0s\u001B[0m 966us/step - MAE: 3566.1143 - loss: 3563.5027\n",
      "Epoch 185/200\n",
      "\u001B[1m34/34\u001B[0m \u001B[32m━━━━━━━━━━━━━━━━━━━━\u001B[0m\u001B[37m\u001B[0m \u001B[1m0s\u001B[0m 1ms/step - MAE: 3566.4648 - loss: 3563.8472 \n",
      "Epoch 186/200\n",
      "\u001B[1m34/34\u001B[0m \u001B[32m━━━━━━━━━━━━━━━━━━━━\u001B[0m\u001B[37m\u001B[0m \u001B[1m0s\u001B[0m 1ms/step - MAE: 3566.8611 - loss: 3564.2407 \n",
      "Epoch 187/200\n",
      "\u001B[1m34/34\u001B[0m \u001B[32m━━━━━━━━━━━━━━━━━━━━\u001B[0m\u001B[37m\u001B[0m \u001B[1m0s\u001B[0m 1ms/step - MAE: 3567.1592 - loss: 3564.5354 \n",
      "Epoch 188/200\n",
      "\u001B[1m34/34\u001B[0m \u001B[32m━━━━━━━━━━━━━━━━━━━━\u001B[0m\u001B[37m\u001B[0m \u001B[1m0s\u001B[0m 1ms/step - MAE: 3567.3752 - loss: 3564.7478 \n",
      "Epoch 189/200\n",
      "\u001B[1m34/34\u001B[0m \u001B[32m━━━━━━━━━━━━━━━━━━━━\u001B[0m\u001B[37m\u001B[0m \u001B[1m0s\u001B[0m 979us/step - MAE: 3567.5850 - loss: 3564.9609\n",
      "Epoch 190/200\n",
      "\u001B[1m34/34\u001B[0m \u001B[32m━━━━━━━━━━━━━━━━━━━━\u001B[0m\u001B[37m\u001B[0m \u001B[1m0s\u001B[0m 963us/step - MAE: 3567.4531 - loss: 3564.8250\n",
      "Epoch 191/200\n",
      "\u001B[1m34/34\u001B[0m \u001B[32m━━━━━━━━━━━━━━━━━━━━\u001B[0m\u001B[37m\u001B[0m \u001B[1m0s\u001B[0m 1000us/step - MAE: 3567.5583 - loss: 3564.9331\n",
      "Epoch 192/200\n",
      "\u001B[1m34/34\u001B[0m \u001B[32m━━━━━━━━━━━━━━━━━━━━\u001B[0m\u001B[37m\u001B[0m \u001B[1m0s\u001B[0m 939us/step - MAE: 3567.4866 - loss: 3564.8577\n",
      "Epoch 193/200\n",
      "\u001B[1m34/34\u001B[0m \u001B[32m━━━━━━━━━━━━━━━━━━━━\u001B[0m\u001B[37m\u001B[0m \u001B[1m0s\u001B[0m 999us/step - MAE: 3567.7183 - loss: 3565.0872\n",
      "Epoch 194/200\n",
      "\u001B[1m34/34\u001B[0m \u001B[32m━━━━━━━━━━━━━━━━━━━━\u001B[0m\u001B[37m\u001B[0m \u001B[1m0s\u001B[0m 981us/step - MAE: 3567.8008 - loss: 3565.1716\n",
      "Epoch 195/200\n",
      "\u001B[1m34/34\u001B[0m \u001B[32m━━━━━━━━━━━━━━━━━━━━\u001B[0m\u001B[37m\u001B[0m \u001B[1m0s\u001B[0m 995us/step - MAE: 3567.7249 - loss: 3565.0930\n",
      "Epoch 196/200\n",
      "\u001B[1m34/34\u001B[0m \u001B[32m━━━━━━━━━━━━━━━━━━━━\u001B[0m\u001B[37m\u001B[0m \u001B[1m0s\u001B[0m 1ms/step - MAE: 3567.7993 - loss: 3565.1675 \n",
      "Epoch 197/200\n",
      "\u001B[1m34/34\u001B[0m \u001B[32m━━━━━━━━━━━━━━━━━━━━\u001B[0m\u001B[37m\u001B[0m \u001B[1m0s\u001B[0m 1ms/step - MAE: 3567.9351 - loss: 3565.3035 \n",
      "Epoch 198/200\n",
      "\u001B[1m34/34\u001B[0m \u001B[32m━━━━━━━━━━━━━━━━━━━━\u001B[0m\u001B[37m\u001B[0m \u001B[1m0s\u001B[0m 1ms/step - MAE: 3567.9075 - loss: 3565.2739 \n",
      "Epoch 199/200\n",
      "\u001B[1m34/34\u001B[0m \u001B[32m━━━━━━━━━━━━━━━━━━━━\u001B[0m\u001B[37m\u001B[0m \u001B[1m0s\u001B[0m 1ms/step - MAE: 3567.9326 - loss: 3565.3003 \n",
      "Epoch 200/200\n",
      "\u001B[1m34/34\u001B[0m \u001B[32m━━━━━━━━━━━━━━━━━━━━\u001B[0m\u001B[37m\u001B[0m \u001B[1m0s\u001B[0m 1ms/step - MAE: 3568.0366 - loss: 3565.4031 \n"
     ]
    }
   ],
   "source": [
    "history = model_3.fit(X_train_normal, y_train, epochs=200)"
   ],
   "metadata": {
    "collapsed": false,
    "ExecuteTime": {
     "end_time": "2024-03-14T15:57:47.573298Z",
     "start_time": "2024-03-14T15:57:31.172242Z"
    }
   },
   "id": "682ba6b1a224b6f8",
   "execution_count": 13
  },
  {
   "cell_type": "code",
   "outputs": [
    {
     "name": "stdout",
     "output_type": "stream",
     "text": [
      "\u001B[1m9/9\u001B[0m \u001B[32m━━━━━━━━━━━━━━━━━━━━\u001B[0m\u001B[37m\u001B[0m \u001B[1m0s\u001B[0m 1ms/step - MAE: 3213.4922 - loss: 3221.0608 \n"
     ]
    },
    {
     "data": {
      "text/plain": "[3198.56298828125, 3160.719970703125]"
     },
     "execution_count": 14,
     "metadata": {},
     "output_type": "execute_result"
    }
   ],
   "source": [
    "model_3.evaluate(X_test_normal, y_test)"
   ],
   "metadata": {
    "collapsed": false,
    "ExecuteTime": {
     "end_time": "2024-03-14T15:57:47.711943Z",
     "start_time": "2024-03-14T15:57:47.576310Z"
    }
   },
   "id": "a51e8e02de2d591c",
   "execution_count": 14
  },
  {
   "cell_type": "code",
   "outputs": [
    {
     "data": {
      "text/plain": "<Axes: >"
     },
     "execution_count": 15,
     "metadata": {},
     "output_type": "execute_result"
    },
    {
     "data": {
      "text/plain": "<Figure size 640x480 with 1 Axes>",
      "image/png": "[encoded data removed]"
     },
     "metadata": {},
     "output_type": "display_data"
    }
   ],
   "source": [
    "pd.DataFrame(history.history).plot()"
   ],
   "metadata": {
    "collapsed": false,
    "ExecuteTime": {
     "end_time": "2024-03-14T15:57:48.717959Z",
     "start_time": "2024-03-14T15:57:47.713953Z"
    }
   },
   "id": "dcab3dde13a09444",
   "execution_count": 15
  },
  {
   "cell_type": "code",
   "outputs": [],
   "source": [],
   "metadata": {
    "collapsed": false
   },
   "id": "b1d31c208c0eb0fa"
  }
 ],
 "metadata": {
  "kernelspec": {
   "display_name": "Python 3",
   "language": "python",
   "name": "python3"
  },
  "language_info": {
   "codemirror_mode": {
    "name": "ipython",
    "version": 2
   },
   "file_extension": ".py",
   "mimetype": "text/x-python",
   "name": "python",
   "nbconvert_exporter": "python",
   "pygments_lexer": "ipython2",
   "version": "2.7.6"
  }
 },
 "nbformat": 4,
 "nbformat_minor": 5
}
